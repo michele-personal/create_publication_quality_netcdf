{
 "cells": [
  {
   "cell_type": "markdown",
   "metadata": {},
   "source": [
    "# Transforming a time series of GeoTIFFs to a multidimensional CF compliant netCDF4 - GDAL and NCO example"
   ]
  },
  {
   "cell_type": "markdown",
   "metadata": {},
   "source": [
    "---\n",
    "## Background:  \n",
    "---\n",
    "\n",
    "This demonstration is covered in the NASA Earthdata Webinar, \n",
    " [netCDF Why and How – Creating publication-quality netCDF datasets](https://daac.ornl.gov/resources/learning/)\n",
    "\n",
    "For these examples, a dataset was originally provided to the ORNL DAAC as thousands of geotiff files representing SnowModel output for years 2005 - 2008.  Individual data files were also at 5 different spatial resolutions; 25-m, 100-m, 500-m, 2000-m, and 10000-m.  The individual geoTIFF files each contained 2-bands of data, SnowDepth and SnowDensity. The original dataset package consisted of over 5,400 individual files.\n",
    "\n",
    "The final distribution data package from the ORNL DAAC transformed these geoTIFF files into CF Compliant netCDF file formats and arranged them into 1 file per year with a daily time step, separate SnowDepth and SnowDensity variables, and separate spatial resolutions.  Through this arrangement, the final dataset distribution package consisted of 40 netCDF files.\n",
    "\n",
    "The original geoTIFF files for year 2006 are ONLY available with this demonstration and are only intended as demonstration data.  Not for scientific use.\n",
    "\n",
    "This example references the dataset published by the [ORNL DAAC](https://daac.ornl.gov/)\n",
    "- [ABoVE: Dall Sheep Response to Snow and Landscape Covariates, Alaska, 2005-2008](https://doi.org/10.3334/ORNLDAAC/1602)."
   ]
  },
  {
   "cell_type": "markdown",
   "metadata": {},
   "source": [
    "## 1. Demonstration Data: \n",
    "---\n",
    "This demonstration will use only the original 365 geoTIFF files for 2006.  Note, the original geoTIFF files contained 2-bands; SnowDepth and SnowDensity.  SnowDepth will be the only variable extracted for this demonstation.\n",
    "\n",
    "Here is a sample of the original data, 365 files, for the year 2006.\n",
    "\n",
    "    SnowModel_DALL_2006_01_01.tif   SnowModel_DALL_2006_01_02.tif\n",
    "    SnowModel_DALL_2006_01_03.tif   SnowModel_DALL_2006_01_04.tif\n",
    "    SnowModel_DALL_2006_01_05.tif   SnowModel_DALL_2006_01_06.tif\n",
    "    SnowModel_DALL_2006_01_07.tif   SnowModel_DALL_2006_01_08.tif\n",
    "    SnowModel_DALL_2006_01_09.tif   SnowModel_DALL_2006_01_10.tif\n",
    "    SnowModel_DALL_2006_01_11.tif   SnowModel_DALL_2006_01_12.tif\n",
    "     .....\n",
    "    SnowModel_DALL_2006_12_30.tif   SnowModel_DALL_2006_12_31.tif\n",
    "    \n",
    "<img src=\"images/TimeSeriesSnowDepth_horizontal_crop.png\" />"
   ]
  },
  {
   "cell_type": "markdown",
   "metadata": {},
   "source": [
    "## 2. Software \n",
    "---\n",
    "\n",
    "### Command Line Utilities\n",
    "\n",
    "This demonstration uses a combination of the command line utilties, GDAL and NCO.\n",
    "\n",
    "### 2.1 GDAL\n",
    "\n",
    "[GDAL](https://gdal.org/) is a translation library for raster and vector geospatial data formats.\n",
    "\n",
    "* [gdalinfo](https://gdal.org/programs/gdalinfo.html) - Lists information about a raster dataset.\n",
    "* [gdal_translate](https://gdal.org/programs/gdal_translate.html) - Converts raster data between different formats.\n",
    "\n",
    "[GDAL Conda Install](https://anaconda.org/conda-forge/gdal)\n",
    "\n",
    "Example usage:\n",
    " \n",
    "- __List information about a raster dataset:__\n",
    "\n",
    "```cmd\n",
    "gdalinfo infile.tif\n",
    "```\n",
    "\n",
    "- __Extract the first band from a multi-band raster file:__\n",
    "\n",
    "```cmd\n",
    "gdal_translate -b 1 input.tif output_band1.tif\n",
    "```\n",
    "\n",
    "- __Convert from a geoTIFF format to a netCDF format:__\n",
    "\n",
    "```cmd\n",
    "gdal_translate -of netCDF -co WRITE_BOTTOMUP=YES -co WRITE_LONLAT=YES in.tif out.nc\n",
    "```\n",
    "\n",
    "### 2.2 ncdump\n",
    "[ncdump](https://www.unidata.ucar.edu/software/netcdf/netcdf/ncdump.html)\n",
    " A command line utility that generates a text representation of a specified netCDF file.\n",
    " \n",
    " Available with the [NCO conda install](https://anaconda.org/conda-forge/nco)\n",
    "\n",
    "Example usage:\n",
    " \n",
    "- __List the header of a netCDF file:__\n",
    "\n",
    "```cmd\n",
    "ncdump -h in.nc\n",
    "```\n",
    "\n",
    "- __List the header and the specified variable values of a netCDF file:__\n",
    "\n",
    "```cmd\n",
    "ncdump -v varname in.nc\n",
    "```\n",
    "\n",
    "### 2.3 NCO\n",
    "\n",
    "### NCO\n",
    "[NCO](http://nco.sourceforge.net/)  Comprise about a dozen standalone, command-line programs that operate on netCDF files.\n",
    "\n",
    "[What is NCO](http://nco.sourceforge.net/#Definition).\n",
    "The standalone, command-line operators are separated based on their general utility.  \n",
    "\n",
    "Available with the [NCO conda install](https://anaconda.org/conda-forge/nco)\n",
    "\n",
    "The 'geoTIFF to netCDF' demonstration makes use the following:\n",
    "1. [ncatted](https://linux.die.net/man/1/ncatted) – netCDF ATTribute EDitor\n",
    "2. [ncrename](https://linux.die.net/man/1/ncrename) – netCDF RENAMEer\n",
    "3. [ncecat](https://linux.die.net/man/1/ncecat) – netCDF Ensemble conCATenator\n",
    "4. [ncks](https://linux.die.net/man/1/ncks) – netCDF Kitchen Sink\n",
    "5. [ncap2](https://linux.die.net/man/1/ncap2) - netCDF Arithmetic Processor\n",
    " \n",
    "Example usage:\n",
    " \n",
    "* __Rename a variable in a netCDF file:__\n",
    "\n",
    "```cmd\n",
    "ncrename -h -v old_name,new_name in.nc\n",
    "```\n",
    "\n",
    "- __Concatenate an arbitrary number of input flies into a single output file:__\n",
    "\n",
    "```cmd\n",
    "ncecat -h input_files output_file.nc\n",
    "```\n",
    "\n",
    "- __Add and populate the 'time' array variable and values:__\n",
    "\n",
    "```cmd\n",
    "ncap2 -s 'time=array(start, step, $time);' input_file.nc output_file.nc\n",
    "```\n",
    "\n",
    "\n",
    "- __Update and attribute to conform to CF standards:__\n",
    "\n",
    "```cmd\n",
    "ncatted attribute_name, variable_name, mode, att_type, att_val in.nc\n",
    "```\n",
    "\n",
    "> * mode = append, create, delete, modify, overwrite\n",
    "> * att_type = float, double, long, short, char, byte"
   ]
  },
  {
   "cell_type": "markdown",
   "metadata": {},
   "source": [
    "#### Examine a geoTIFF file with GDAL's gdalinfo:"
   ]
  },
  {
   "cell_type": "code",
   "execution_count": 1,
   "metadata": {},
   "outputs": [
    {
     "name": "stdout",
     "output_type": "stream",
     "text": [
      "Driver: GTiff/GeoTIFF\n",
      "Files: Orig_SnowModel_DALL_2006_01_01.tif\n",
      "Size is 160, 240\n",
      "Coordinate System is:\n",
      "PROJCS[\"unnamed\",\n",
      "    GEOGCS[\"NAD83\",\n",
      "        DATUM[\"North_American_Datum_1983\",\n",
      "            SPHEROID[\"GRS 1980\",6378137,298.2572221010042,\n",
      "                AUTHORITY[\"EPSG\",\"7019\"]],\n",
      "            TOWGS84[0,0,0,0,0,0,0],\n",
      "            AUTHORITY[\"EPSG\",\"6269\"]],\n",
      "        PRIMEM[\"Greenwich\",0],\n",
      "        UNIT[\"degree\",0.0174532925199433],\n",
      "        AUTHORITY[\"EPSG\",\"4269\"]],\n",
      "    PROJECTION[\"Albers_Conic_Equal_Area\"],\n",
      "    PARAMETER[\"standard_parallel_1\",55],\n",
      "    PARAMETER[\"standard_parallel_2\",65],\n",
      "    PARAMETER[\"latitude_of_center\",50],\n",
      "    PARAMETER[\"longitude_of_center\",-154],\n",
      "    PARAMETER[\"false_easting\",0],\n",
      "    PARAMETER[\"false_northing\",0],\n",
      "    UNIT[\"metre\",1,\n",
      "        AUTHORITY[\"EPSG\",\"9001\"]]]\n",
      "Origin = (-28000.000000000000000,1230000.000000000000000)\n",
      "Pixel Size = (500.000000000000000,-500.000000000000000)\n",
      "Metadata:\n",
      "  AREA_OR_POINT=Area\n",
      "Image Structure Metadata:\n",
      "  COMPRESSION=LZW\n",
      "  INTERLEAVE=BAND\n",
      "Corner Coordinates:\n",
      "Upper Left  (  -28000.000, 1230000.000) (154d31'12.98\"W, 61d 3' 5.24\"N)\n",
      "Lower Left  (  -28000.000, 1110000.000) (154d30'12.14\"W, 59d58'42.83\"N)\n",
      "Upper Right (   52000.000, 1230000.000) (153d 2' 1.78\"W, 61d 2'56.59\"N)\n",
      "Lower Right (   52000.000, 1110000.000) (153d 3'54.75\"W, 59d58'34.46\"N)\n",
      "Center      (   12000.000, 1170000.000) (153d46'50.53\"W, 60d30'56.93\"N)\n",
      "Band 1 Block=160x12 Type=Float32, ColorInterp=Gray\n",
      "  Min=0.300 Max=146.540 \n",
      "  Minimum=0.300, Maximum=146.540, Mean=nan, StdDev=nan\n",
      "  NoData Value=-3.39999999999999996e+38\n",
      "  Metadata:\n",
      "    STATISTICS_MAXIMUM=146.53999328613\n",
      "    STATISTICS_MEAN=nan\n",
      "    STATISTICS_MINIMUM=0.30000001192093\n",
      "    STATISTICS_STDDEV=nan\n",
      "Band 2 Block=160x12 Type=Float32, ColorInterp=Undefined\n",
      "  Min=113.840 Max=504.070 \n",
      "  Minimum=113.840, Maximum=504.070, Mean=nan, StdDev=nan\n",
      "  NoData Value=-3.39999999999999996e+38\n",
      "  Metadata:\n",
      "    STATISTICS_MAXIMUM=504.07000732422\n",
      "    STATISTICS_MEAN=nan\n",
      "    STATISTICS_MINIMUM=113.83999633789\n",
      "    STATISTICS_STDDEV=nan\n"
     ]
    }
   ],
   "source": [
    "gdalinfo Orig_SnowModel_DALL_2006_01_01.tif"
   ]
  },
  {
   "cell_type": "markdown",
   "metadata": {},
   "source": [
    "#### Examine a netCDF file with ncdump:"
   ]
  },
  {
   "cell_type": "code",
   "execution_count": 2,
   "metadata": {},
   "outputs": [
    {
     "name": "stdout",
     "output_type": "stream",
     "text": [
      "netcdf snow_depth_00500m_2006_time_final {\n",
      "dimensions:\n",
      "\ttime = UNLIMITED ; // (365 currently)\n",
      "\tx = 160 ;\n",
      "\ty = 240 ;\n",
      "variables:\n",
      "\tdouble time(time) ;\n",
      "\t\ttime:units = \"days since 2006-01-01 00:00:00\" ;\n",
      "\t\ttime:calendar = \"standard\" ;\n",
      "\t\ttime:description = \"middle of each day\" ;\n",
      "\t\ttime:long_name = \"time\" ;\n",
      "\t\ttime:standard_name = \"time\" ;\n",
      "\tdouble x(x) ;\n",
      "\t\tx:standard_name = \"projection_x_coordinate\" ;\n",
      "\t\tx:long_name = \"x coordinate of projection\" ;\n",
      "\t\tx:units = \"m\" ;\n",
      "\tdouble y(y) ;\n",
      "\t\ty:standard_name = \"projection_y_coordinate\" ;\n",
      "\t\ty:long_name = \"y coordinate of projection\" ;\n",
      "\t\ty:units = \"m\" ;\n",
      "\tfloat lat(y, x) ;\n",
      "\t\tlat:standard_name = \"latitude\" ;\n",
      "\t\tlat:long_name = \"latitude\" ;\n",
      "\t\tlat:units = \"degrees_north\" ;\n",
      "\tfloat lon(y, x) ;\n",
      "\t\tlon:standard_name = \"longitude\" ;\n",
      "\t\tlon:long_name = \"longitude\" ;\n",
      "\t\tlon:units = \"degrees_east\" ;\n",
      "\tfloat SnowDepth_500m(time, y, x) ;\n",
      "\t\tSnowDepth_500m:long_name = \"SnowModel snow depth: 500-m resolution\" ;\n",
      "\t\tSnowDepth_500m:_FillValue = -3.4e+38f ;\n",
      "\t\tSnowDepth_500m:grid_mapping = \"crs\" ;\n",
      "\t\tSnowDepth_500m:coordinates = \"lon lat\" ;\n",
      "\t\tSnowDepth_500m:units = \"cm\" ;\n",
      "\tchar crs ;\n",
      "\t\tcrs:grid_mapping_name = \"albers_conical_equal_area\" ;\n",
      "\t\tcrs:false_easting = 0. ;\n",
      "\t\tcrs:false_northing = 0. ;\n",
      "\t\tcrs:latitude_of_projection_origin = 50. ;\n",
      "\t\tcrs:longitude_of_central_meridian = -154. ;\n",
      "\t\tcrs:standard_parallel = 55., 65. ;\n",
      "\t\tcrs:long_name = \"CRS definition\" ;\n",
      "\t\tcrs:longitude_of_prime_meridian = 0. ;\n",
      "\t\tcrs:semi_major_axis = 6378137. ;\n",
      "\t\tcrs:inverse_flattening = 298.257222101004 ;\n",
      "\t\tcrs:spatial_ref = \"PROJCS[\\\"unnamed\\\",GEOGCS[\\\"NAD83\\\",DATUM[\\\"North_American_Datum_1983\\\",SPHEROID[\\\"GRS 1980\\\",6378137,298.2572221010042,AUTHORITY[\\\"EPSG\\\",\\\"7019\\\"]],TOWGS84[0,0,0,0,0,0,0],AUTHORITY[\\\"EPSG\\\",\\\"6269\\\"]],PRIMEM[\\\"Greenwich\\\",0],UNIT[\\\"degree\\\",0.0174532925199433],AUTHORITY[\\\"EPSG\\\",\\\"4269\\\"]],PROJECTION[\\\"Albers_Conic_Equal_Area\\\"],PARAMETER[\\\"standard_parallel_1\\\",55],PARAMETER[\\\"standard_parallel_2\\\",65],PARAMETER[\\\"latitude_of_center\\\",50],PARAMETER[\\\"longitude_of_center\\\",-154],PARAMETER[\\\"false_easting\\\",0],PARAMETER[\\\"false_northing\\\",0],UNIT[\\\"metre\\\",1,AUTHORITY[\\\"EPSG\\\",\\\"9001\\\"]]]\" ;\n",
      "\t\tcrs:GeoTransform = \"-28000 500 0 1230000 0 -500 \" ;\n",
      "\n",
      "// global attributes:\n",
      "\t\t:GDAL_AREA_OR_POINT = \"Area\" ;\n",
      "\t\t:Conventions = \"CF-1.6\" ;\n",
      "\t\t:GDAL = \"GDAL 2.3.3, released 2018/12/14\" ;\n",
      "\t\t:history = \"Mon Sep 02 19:45:39 2019: GDAL CreateCopy( SnowModel_DALL_2006_01_01.nc, ... )\" ;\n",
      "\t\t:institution = \"University of Washington\" ;\n",
      "\t\t:project = \"Arctic-Boreal Vulnerability Experiment (ABoVE)\" ;\n",
      "\t\t:references = \"Mahoney, P., Liston, G., Mangipane, B., Prugh, L.\" ;\n",
      "}\n"
     ]
    }
   ],
   "source": [
    "ncdump -h snow_depth_00500m_2006_time_final.nc"
   ]
  },
  {
   "cell_type": "markdown",
   "metadata": {},
   "source": [
    "## 3. CF Compliance\n",
    "---\n",
    "The header of a netCDF file should follow standards as defined by the CF (Climate and Forecast) conventions.  \n",
    "The conventions define metadata that provide a definitive description of what the data in each variable represents, and the spatial and temporal properties of the data. This enables users of data from different sources to decide which quantities are comparable, and facilitates building applications with powerful extraction, regridding, and display capabilities.\n",
    "* [CF Conventions and Metadata](http://cfconventions.org/)\n",
    "* [Standard Name Table](http://cfconventions.org/Data/cf-standard-names/67/build/cf-standard-name-table.html)\n",
    "\n",
    "\n",
    "***"
   ]
  },
  {
   "cell_type": "markdown",
   "metadata": {},
   "source": [
    "---\n",
    "# Demonstration \n",
    "---"
   ]
  },
  {
   "cell_type": "markdown",
   "metadata": {},
   "source": [
    "## Convert a Series of GeoTIFF files to netCDF  "
   ]
  },
  {
   "cell_type": "markdown",
   "metadata": {},
   "source": [
    "### Step 1:  Extract the SnowDepth Band from GeoTIFF files\n",
    "---\n",
    "#### The `gdal_translate` function of the GDAL operators can extract individual bands from a geoTIFF file\n",
    "\n",
    "The -b flag selects the band of interest. In this case, Band1 is SnowDepth.\n",
    "\n",
    "* To save processing time, for the webinar this is demonstrated below on just 1 file.  "
   ]
  },
  {
   "cell_type": "code",
   "execution_count": 3,
   "metadata": {},
   "outputs": [
    {
     "name": "stdout",
     "output_type": "stream",
     "text": [
      "Input file size is 160, 240\n",
      "0...10...20...30...40...50...60...70...80...90...100 - done.\n"
     ]
    }
   ],
   "source": [
    "# Step 1: Extract SnowDepth band from geoTIFF files\n",
    "gdal_translate -b 1 SnowModel_DALL_2006_01_01.tif SnowModel_DALL_Band1_2006_01_01.tif"
   ]
  },
  {
   "cell_type": "markdown",
   "metadata": {},
   "source": [
    "#### Check that only Band 1 is in the new file"
   ]
  },
  {
   "cell_type": "code",
   "execution_count": 4,
   "metadata": {
    "scrolled": false
   },
   "outputs": [
    {
     "name": "stdout",
     "output_type": "stream",
     "text": [
      "Driver: GTiff/GeoTIFF\n",
      "Files: SnowModel_DALL_Band1_2006_01_01.tif\n",
      "Size is 160, 240\n",
      "Coordinate System is:\n",
      "PROJCS[\"unnamed\",\n",
      "    GEOGCS[\"NAD83\",\n",
      "        DATUM[\"North_American_Datum_1983\",\n",
      "            SPHEROID[\"GRS 1980\",6378137,298.2572221010042,\n",
      "                AUTHORITY[\"EPSG\",\"7019\"]],\n",
      "            TOWGS84[0,0,0,0,0,0,0],\n",
      "            AUTHORITY[\"EPSG\",\"6269\"]],\n",
      "        PRIMEM[\"Greenwich\",0],\n",
      "        UNIT[\"degree\",0.0174532925199433],\n",
      "        AUTHORITY[\"EPSG\",\"4269\"]],\n",
      "    PROJECTION[\"Albers_Conic_Equal_Area\"],\n",
      "    PARAMETER[\"standard_parallel_1\",55],\n",
      "    PARAMETER[\"standard_parallel_2\",65],\n",
      "    PARAMETER[\"latitude_of_center\",50],\n",
      "    PARAMETER[\"longitude_of_center\",-154],\n",
      "    PARAMETER[\"false_easting\",0],\n",
      "    PARAMETER[\"false_northing\",0],\n",
      "    UNIT[\"metre\",1,\n",
      "        AUTHORITY[\"EPSG\",\"9001\"]]]\n",
      "Origin = (-28000.000000000000000,1230000.000000000000000)\n",
      "Pixel Size = (500.000000000000000,-500.000000000000000)\n",
      "Metadata:\n",
      "  AREA_OR_POINT=Area\n",
      "Image Structure Metadata:\n",
      "  INTERLEAVE=BAND\n",
      "Corner Coordinates:\n",
      "Upper Left  (  -28000.000, 1230000.000) (154d31'12.98\"W, 61d 3' 5.24\"N)\n",
      "Lower Left  (  -28000.000, 1110000.000) (154d30'12.14\"W, 59d58'42.83\"N)\n",
      "Upper Right (   52000.000, 1230000.000) (153d 2' 1.78\"W, 61d 2'56.59\"N)\n",
      "Lower Right (   52000.000, 1110000.000) (153d 3'54.75\"W, 59d58'34.46\"N)\n",
      "Center      (   12000.000, 1170000.000) (153d46'50.53\"W, 60d30'56.93\"N)\n",
      "Band 1 Block=160x12 Type=Float32, ColorInterp=Gray\n",
      "  Min=0.300 Max=146.540 \n",
      "  Minimum=0.300, Maximum=146.540, Mean=nan, StdDev=nan\n",
      "  NoData Value=-3.39999999999999996e+38\n",
      "  Metadata:\n",
      "    STATISTICS_MAXIMUM=146.53999328613\n",
      "    STATISTICS_MEAN=nan\n",
      "    STATISTICS_MINIMUM=0.30000001192093\n",
      "    STATISTICS_STDDEV=nan\n"
     ]
    }
   ],
   "source": [
    "gdalinfo SnowModel_DALL_Band1_2006_01_01.tif"
   ]
  },
  {
   "cell_type": "markdown",
   "metadata": {},
   "source": [
    "### Example scripts to loop through all files\n",
    "For the full dataset, this step needs to be performed on all geoTIFF files. \n",
    "- Because these are command line utilities, use scripting to loop through and process all files.\n",
    "\n",
    "Windows:\n",
    "```cmd\n",
    "for %f in (*.tif) do (gdal_translate -b 1 %f band1/%f)\n",
    "```\n",
    "UNIX:\n",
    "```sh\n",
    "for f in *.tif; do gdal_translate -b 1 $f band1/$f; done\n",
    "```"
   ]
  },
  {
   "cell_type": "markdown",
   "metadata": {},
   "source": [
    "### Step 2:  Convert the geoTIFF files to netCDF\n",
    "---\n",
    "#### 2.1 The `gdal_translate` function of the GDAL operators converts file formats, including geoTIFF to netCDF\n",
    "\n",
    "The demonstration geoTIFF files are in a projected coordinate reference system, `Albers Conical Equal Area` with appropriate parameters.  CF Convensions require that when a coordinate variable for a grid are not latitude and longitude, the true latitude and longitude coordinates are supplied via the `coordinates` attribute. By using the gdal_translate creation option `\"WRITE_LONLAT=YES\"`, latitude and longitude will be added to the netCDF file as 2-dimensional lat and lon variables with values of each pixel centerpoint in decimal degrees.  \n",
    "\n",
    "The translation will also provide a fully defined coordinate reference system in the `albers_conical_equal_area` variable and attributes and also assign the `grid_mapping` attribute to the data variables(s).\n",
    "\n",
    "More information can be found at the following links:\n",
    "\n",
    "[CF Conventions](http://cfconventions.org/)\n",
    "\n",
    "[CF Conventions: Projections](http://cfconventions.org/Data/cf-conventions/cf-conventions-1.7/cf-conventions.html#grid-mappings-and-projections)\n",
    "\n",
    "[Grid Mappings Appendix](http://cfconventions.org/Data/cf-conventions/cf-conventions-1.7/cf-conventions.html#appendix-grid-mappings)\n"
   ]
  },
  {
   "cell_type": "code",
   "execution_count": 5,
   "metadata": {},
   "outputs": [
    {
     "name": "stdout",
     "output_type": "stream",
     "text": [
      "Input file size is 160, 240\n",
      "0...10...20...30...40...50...60...70...80...90...100 - done.\n"
     ]
    }
   ],
   "source": [
    "# Step 2: Convert geoTIFF to netCDF\n",
    "gdal_translate -of netCDF -co WRITE_LONLAT=YES SnowModel_DALL_Band1_2006_01_01.tif SnowModel_DALL_2006_01_01.nc"
   ]
  },
  {
   "cell_type": "markdown",
   "metadata": {},
   "source": [
    "#### 2.2 Examine the netCDF file with `ncdump`\n",
    "*   Examine how the gdal_translate conversion from geoTIFF to netCDF captures most of the necessary netCDF header information\n",
    "> * `x` and `y` dimension\n",
    "> * `x` and `y` variables\n",
    "> * 2D `lat` and `lon` variables; mapped to (y,x) dimensions\n",
    "> * file projection information written to `albers_conical_equal_area` including `grid_mapping_name` and `grid_mapping` attributes in the projection and data `Band1` variable\n",
    "> * data variable as `Band1` (SnowDepth)\n",
    "> * Note that the files are only 2 dimensions; x and y .  No time dimension."
   ]
  },
  {
   "cell_type": "code",
   "execution_count": 6,
   "metadata": {},
   "outputs": [
    {
     "name": "stdout",
     "output_type": "stream",
     "text": [
      "netcdf SnowModel_DALL_2006_01_01 {\n",
      "dimensions:\n",
      "\tx = 160 ;\n",
      "\ty = 240 ;\n",
      "variables:\n",
      "\tchar albers_conical_equal_area ;\n",
      "\t\talbers_conical_equal_area:grid_mapping_name = \"albers_conical_equal_area\" ;\n",
      "\t\talbers_conical_equal_area:false_easting = 0. ;\n",
      "\t\talbers_conical_equal_area:false_northing = 0. ;\n",
      "\t\talbers_conical_equal_area:latitude_of_projection_origin = 50. ;\n",
      "\t\talbers_conical_equal_area:longitude_of_central_meridian = -154. ;\n",
      "\t\talbers_conical_equal_area:standard_parallel = 55., 65. ;\n",
      "\t\talbers_conical_equal_area:long_name = \"CRS definition\" ;\n",
      "\t\talbers_conical_equal_area:longitude_of_prime_meridian = 0. ;\n",
      "\t\talbers_conical_equal_area:semi_major_axis = 6378137. ;\n",
      "\t\talbers_conical_equal_area:inverse_flattening = 298.257222101004 ;\n",
      "\t\talbers_conical_equal_area:spatial_ref = \"PROJCS[\\\"unnamed\\\",GEOGCS[\\\"NAD83\\\",DATUM[\\\"North_American_Datum_1983\\\",SPHEROID[\\\"GRS 1980\\\",6378137,298.2572221010042,AUTHORITY[\\\"EPSG\\\",\\\"7019\\\"]],TOWGS84[0,0,0,0,0,0,0],AUTHORITY[\\\"EPSG\\\",\\\"6269\\\"]],PRIMEM[\\\"Greenwich\\\",0],UNIT[\\\"degree\\\",0.0174532925199433],AUTHORITY[\\\"EPSG\\\",\\\"4269\\\"]],PROJECTION[\\\"Albers_Conic_Equal_Area\\\"],PARAMETER[\\\"standard_parallel_1\\\",55],PARAMETER[\\\"standard_parallel_2\\\",65],PARAMETER[\\\"latitude_of_center\\\",50],PARAMETER[\\\"longitude_of_center\\\",-154],PARAMETER[\\\"false_easting\\\",0],PARAMETER[\\\"false_northing\\\",0],UNIT[\\\"metre\\\",1,AUTHORITY[\\\"EPSG\\\",\\\"9001\\\"]]]\" ;\n",
      "\t\talbers_conical_equal_area:GeoTransform = \"-28000 500 0 1230000 0 -500 \" ;\n",
      "\tdouble x(x) ;\n",
      "\t\tx:standard_name = \"projection_x_coordinate\" ;\n",
      "\t\tx:long_name = \"x coordinate of projection\" ;\n",
      "\t\tx:units = \"m\" ;\n",
      "\tdouble y(y) ;\n",
      "\t\ty:standard_name = \"projection_y_coordinate\" ;\n",
      "\t\ty:long_name = \"y coordinate of projection\" ;\n",
      "\t\ty:units = \"m\" ;\n",
      "\tfloat lat(y, x) ;\n",
      "\t\tlat:standard_name = \"latitude\" ;\n",
      "\t\tlat:long_name = \"latitude\" ;\n",
      "\t\tlat:units = \"degrees_north\" ;\n",
      "\tfloat lon(y, x) ;\n",
      "\t\tlon:standard_name = \"longitude\" ;\n",
      "\t\tlon:long_name = \"longitude\" ;\n",
      "\t\tlon:units = \"degrees_east\" ;\n",
      "\tfloat Band1(y, x) ;\n",
      "\t\tBand1:long_name = \"GDAL Band Number 1\" ;\n",
      "\t\tBand1:_FillValue = -3.4e+38f ;\n",
      "\t\tBand1:grid_mapping = \"albers_conical_equal_area\" ;\n",
      "\t\tBand1:coordinates = \"lon lat\" ;\n",
      "\n",
      "// global attributes:\n",
      "\t\t:GDAL_AREA_OR_POINT = \"Area\" ;\n",
      "\t\t:Conventions = \"CF-1.5\" ;\n",
      "\t\t:GDAL = \"GDAL 2.3.3, released 2018/12/14\" ;\n",
      "\t\t:history = \"Mon Sep 09 11:33:34 2019: GDAL CreateCopy( SnowModel_DALL_2006_01_01.nc, ... )\" ;\n",
      "}\n"
     ]
    }
   ],
   "source": [
    "ncdump -h SnowModel_DALL_2006_01_01.nc\n",
    "# The `-h` flag will print only the header to standout"
   ]
  },
  {
   "cell_type": "markdown",
   "metadata": {},
   "source": [
    "### Example scripts to loop through 365 individual *'Band 1' files for 2006; 1 file per day.\n",
    "\n",
    "Windows\n",
    "```cmd\n",
    "for %f in (*.tif) do (gdal_translate -of netCDF -co WRITE_LONLAT=YES %f %~nf.nc)\n",
    "```\n",
    "UNIX:\n",
    "```sh\n",
    "for f in *.tif; do gdal_translate -of netCDF -co WRITE_LONLAT=YES $f ${f%.*}.nc; done   \n",
    "```"
   ]
  },
  {
   "cell_type": "markdown",
   "metadata": {},
   "source": [
    "#### After looping through all files, there are now 365 2-D netCDF files, created from Band1 of the 365 geoTIFF files for year 2006."
   ]
  },
  {
   "cell_type": "markdown",
   "metadata": {},
   "source": [
    "### Step 3. Use NCO's `ncrename` to rename the variable _albers-conical-equal-area_ to _crs_\n",
    "---\n",
    "**A couple extra steps are necessary to properly assign the `time` dimension to the SnowDepth variable.\n",
    "\n",
    "Naming the projection system variable to `crs` is more standardized and allows `ncecat` (the netCDF operator that merges the 365 files into 1) to correctly assigns the time dimension\n",
    "* the -h flag stops NCO operators from writing each command to the `// global attributes` section\n",
    "* the -v flag tells ncrename to rename a `variable`"
   ]
  },
  {
   "cell_type": "code",
   "execution_count": 7,
   "metadata": {},
   "outputs": [],
   "source": [
    "# Step 3: Rename albers_conical_equal_area variable to crs\n",
    "ncrename -h -v albers_conical_equal_area,crs SnowModel_DALL_2006_01_01.nc"
   ]
  },
  {
   "cell_type": "code",
   "execution_count": 8,
   "metadata": {},
   "outputs": [
    {
     "name": "stdout",
     "output_type": "stream",
     "text": [
      "netcdf SnowModel_DALL_2006_01_01 {\n",
      "dimensions:\n",
      "\tx = 160 ;\n",
      "\ty = 240 ;\n",
      "variables:\n",
      "\tchar crs ;\n",
      "\t\tcrs:grid_mapping_name = \"albers_conical_equal_area\" ;\n",
      "\t\tcrs:false_easting = 0. ;\n",
      "\t\tcrs:false_northing = 0. ;\n",
      "\t\tcrs:latitude_of_projection_origin = 50. ;\n",
      "\t\tcrs:longitude_of_central_meridian = -154. ;\n",
      "\t\tcrs:standard_parallel = 55., 65. ;\n",
      "\t\tcrs:long_name = \"CRS definition\" ;\n",
      "\t\tcrs:longitude_of_prime_meridian = 0. ;\n",
      "\t\tcrs:semi_major_axis = 6378137. ;\n",
      "\t\tcrs:inverse_flattening = 298.257222101004 ;\n",
      "\t\tcrs:spatial_ref = \"PROJCS[\\\"unnamed\\\",GEOGCS[\\\"NAD83\\\",DATUM[\\\"North_American_Datum_1983\\\",SPHEROID[\\\"GRS 1980\\\",6378137,298.2572221010042,AUTHORITY[\\\"EPSG\\\",\\\"7019\\\"]],TOWGS84[0,0,0,0,0,0,0],AUTHORITY[\\\"EPSG\\\",\\\"6269\\\"]],PRIMEM[\\\"Greenwich\\\",0],UNIT[\\\"degree\\\",0.0174532925199433],AUTHORITY[\\\"EPSG\\\",\\\"4269\\\"]],PROJECTION[\\\"Albers_Conic_Equal_Area\\\"],PARAMETER[\\\"standard_parallel_1\\\",55],PARAMETER[\\\"standard_parallel_2\\\",65],PARAMETER[\\\"latitude_of_center\\\",50],PARAMETER[\\\"longitude_of_center\\\",-154],PARAMETER[\\\"false_easting\\\",0],PARAMETER[\\\"false_northing\\\",0],UNIT[\\\"metre\\\",1,AUTHORITY[\\\"EPSG\\\",\\\"9001\\\"]]]\" ;\n",
      "\t\tcrs:GeoTransform = \"-28000 500 0 1230000 0 -500 \" ;\n",
      "\tdouble x(x) ;\n",
      "\t\tx:standard_name = \"projection_x_coordinate\" ;\n",
      "\t\tx:long_name = \"x coordinate of projection\" ;\n",
      "\t\tx:units = \"m\" ;\n",
      "\tdouble y(y) ;\n",
      "\t\ty:standard_name = \"projection_y_coordinate\" ;\n",
      "\t\ty:long_name = \"y coordinate of projection\" ;\n",
      "\t\ty:units = \"m\" ;\n",
      "\tfloat lat(y, x) ;\n",
      "\t\tlat:standard_name = \"latitude\" ;\n",
      "\t\tlat:long_name = \"latitude\" ;\n",
      "\t\tlat:units = \"degrees_north\" ;\n",
      "\tfloat lon(y, x) ;\n",
      "\t\tlon:standard_name = \"longitude\" ;\n",
      "\t\tlon:long_name = \"longitude\" ;\n",
      "\t\tlon:units = \"degrees_east\" ;\n",
      "\tfloat Band1(y, x) ;\n",
      "\t\tBand1:long_name = \"GDAL Band Number 1\" ;\n",
      "\t\tBand1:_FillValue = -3.4e+38f ;\n",
      "\t\tBand1:grid_mapping = \"albers_conical_equal_area\" ;\n",
      "\t\tBand1:coordinates = \"lon lat\" ;\n",
      "\n",
      "// global attributes:\n",
      "\t\t:GDAL_AREA_OR_POINT = \"Area\" ;\n",
      "\t\t:Conventions = \"CF-1.5\" ;\n",
      "\t\t:GDAL = \"GDAL 2.3.3, released 2018/12/14\" ;\n",
      "\t\t:history = \"Mon Sep 09 11:33:34 2019: GDAL CreateCopy( SnowModel_DALL_2006_01_01.nc, ... )\" ;\n",
      "}\n"
     ]
    }
   ],
   "source": [
    "ncdump -h SnowModel_DALL_2006_01_01.nc"
   ]
  },
  {
   "cell_type": "markdown",
   "metadata": {},
   "source": [
    "### Example script to loop through 365 individual files for 2006; 1 file per day.\n",
    "\n",
    "Windows:\n",
    "```cmd\n",
    "for %f in (*.nc) do (ncrename -h -v albers_conical_equal_area,crs %f)\n",
    "```\n",
    "UNIX:\n",
    "```sh\n",
    "for f in *.nc; do ncrename -h -v albers_conical_equal_area,crs $f; done\n",
    "```"
   ]
  },
  {
   "cell_type": "markdown",
   "metadata": {},
   "source": [
    "### Step 4.  Merge the 365 individual daily 2006 netCDF files into one netCDF file.  Add time dimension\n",
    "---\n",
    "We have generated 365 indiviuald daily netCDF files.  The next step is to merge the individual netCDFs into one file, where a record dimension is automatically created and named \"time\". \n",
    "This command excludes the \"crs\" variable so it will not be associated with the \"time\" dimension, but we will add the projection information back in in a subsequent step.\n",
    "\n",
    "\n",
    "Use the NCO `ncecat` operator to merge all 2006 files\n",
    "* [ncecat](https://linux.die.net/man/1/ncecat) – netCDF Ensemble conCATenator\n",
    "> ncecat aggregates an arbitrary number of input files into a single output file\n",
    "* `-x -v` : this combination of options will exclude the crs variable. It will not be written to the output file, but added back in a subsequent step.\n",
    "* `-u time`: option names the new record dimension 'time'\n",
    "* `-n ` : NCO decodes lists of such filenames encoded using the ‘-n’ syntax. Handy for some files. See documentation\n",
    ">  -n takes the form -n file_number, digit_number, numeric_increment where\n",
    "> *  file_number is the number of files, \n",
    "> * digit_number is the fixed number of numeric digits comprising the numeric_suffix, and \n",
    "> * numeric_increment is the constant, integer-valued difference between the numeric_suffix of any two consecutive files.\n",
    "* A descriptive output filename is written **snow_depth_00500m_2006.nc**"
   ]
  },
  {
   "cell_type": "code",
   "execution_count": 9,
   "metadata": {},
   "outputs": [],
   "source": [
    "# Step 4:  Merge netCDF files into one multidimensional file\n",
    "ncecat -O -h -x -v crs -u time singleband/SnowModel_DALL_2006*.nc snow_depth_00500m_2006.nc"
   ]
  },
  {
   "cell_type": "markdown",
   "metadata": {},
   "source": [
    "####  From the ncecat operation, the **time** dimension is added and properly attributed to the Band1 variable.  As noted above, the crs variable is not copied in the output file."
   ]
  },
  {
   "cell_type": "code",
   "execution_count": 10,
   "metadata": {},
   "outputs": [
    {
     "name": "stdout",
     "output_type": "stream",
     "text": [
      "netcdf snow_depth_00500m_2006 {\n",
      "dimensions:\n",
      "\ttime = UNLIMITED ; // (365 currently)\n",
      "\tx = 160 ;\n",
      "\ty = 240 ;\n",
      "variables:\n",
      "\tdouble x(x) ;\n",
      "\t\tx:standard_name = \"projection_x_coordinate\" ;\n",
      "\t\tx:long_name = \"x coordinate of projection\" ;\n",
      "\t\tx:units = \"m\" ;\n",
      "\tdouble y(y) ;\n",
      "\t\ty:standard_name = \"projection_y_coordinate\" ;\n",
      "\t\ty:long_name = \"y coordinate of projection\" ;\n",
      "\t\ty:units = \"m\" ;\n",
      "\tfloat lat(y, x) ;\n",
      "\t\tlat:standard_name = \"latitude\" ;\n",
      "\t\tlat:long_name = \"latitude\" ;\n",
      "\t\tlat:units = \"degrees_north\" ;\n",
      "\tfloat lon(y, x) ;\n",
      "\t\tlon:standard_name = \"longitude\" ;\n",
      "\t\tlon:long_name = \"longitude\" ;\n",
      "\t\tlon:units = \"degrees_east\" ;\n",
      "\tfloat Band1(time, y, x) ;\n",
      "\t\tBand1:long_name = \"GDAL Band Number 1\" ;\n",
      "\t\tBand1:_FillValue = -3.4e+38f ;\n",
      "\t\tBand1:grid_mapping = \"albers_conical_equal_area\" ;\n",
      "\t\tBand1:coordinates = \"lon lat\" ;\n",
      "\n",
      "// global attributes:\n",
      "\t\t:GDAL_AREA_OR_POINT = \"Area\" ;\n",
      "\t\t:Conventions = \"CF-1.5\" ;\n",
      "\t\t:GDAL = \"GDAL 2.3.3, released 2018/12/14\" ;\n",
      "\t\t:history = \"Mon Sep 02 19:45:39 2019: GDAL CreateCopy( SnowModel_DALL_2006_01_01.nc, ... )\" ;\n",
      "}\n"
     ]
    }
   ],
   "source": [
    "ncdump -h snow_depth_00500m_2006.nc"
   ]
  },
  {
   "cell_type": "markdown",
   "metadata": {},
   "source": [
    "### Step 5.  Copy the \"crs\" variable from one of the individual netCDFs to the merged one.\n",
    "\n",
    "Use the NCO `ncks` to copy the `crs` variable from a previous netCDF daily file\n",
    "* `ncks` – netCDF kitchen sink"
   ]
  },
  {
   "cell_type": "code",
   "execution_count": 11,
   "metadata": {},
   "outputs": [],
   "source": [
    "#Step 5:  Copy the crs variable back into the merged file\n",
    "ncks -h -A -v crs SnowModel_DALL_2006_01_01.nc snow_depth_00500m_2006.nc"
   ]
  },
  {
   "cell_type": "code",
   "execution_count": 12,
   "metadata": {},
   "outputs": [
    {
     "name": "stdout",
     "output_type": "stream",
     "text": [
      "netcdf snow_depth_00500m_2006 {\n",
      "dimensions:\n",
      "\ttime = UNLIMITED ; // (365 currently)\n",
      "\tx = 160 ;\n",
      "\ty = 240 ;\n",
      "variables:\n",
      "\tdouble x(x) ;\n",
      "\t\tx:standard_name = \"projection_x_coordinate\" ;\n",
      "\t\tx:long_name = \"x coordinate of projection\" ;\n",
      "\t\tx:units = \"m\" ;\n",
      "\tdouble y(y) ;\n",
      "\t\ty:standard_name = \"projection_y_coordinate\" ;\n",
      "\t\ty:long_name = \"y coordinate of projection\" ;\n",
      "\t\ty:units = \"m\" ;\n",
      "\tfloat lat(y, x) ;\n",
      "\t\tlat:standard_name = \"latitude\" ;\n",
      "\t\tlat:long_name = \"latitude\" ;\n",
      "\t\tlat:units = \"degrees_north\" ;\n",
      "\tfloat lon(y, x) ;\n",
      "\t\tlon:standard_name = \"longitude\" ;\n",
      "\t\tlon:long_name = \"longitude\" ;\n",
      "\t\tlon:units = \"degrees_east\" ;\n",
      "\tfloat Band1(time, y, x) ;\n",
      "\t\tBand1:long_name = \"GDAL Band Number 1\" ;\n",
      "\t\tBand1:_FillValue = -3.4e+38f ;\n",
      "\t\tBand1:grid_mapping = \"albers_conical_equal_area\" ;\n",
      "\t\tBand1:coordinates = \"lon lat\" ;\n",
      "\tchar crs ;\n",
      "\t\tcrs:grid_mapping_name = \"albers_conical_equal_area\" ;\n",
      "\t\tcrs:false_easting = 0. ;\n",
      "\t\tcrs:false_northing = 0. ;\n",
      "\t\tcrs:latitude_of_projection_origin = 50. ;\n",
      "\t\tcrs:longitude_of_central_meridian = -154. ;\n",
      "\t\tcrs:standard_parallel = 55., 65. ;\n",
      "\t\tcrs:long_name = \"CRS definition\" ;\n",
      "\t\tcrs:longitude_of_prime_meridian = 0. ;\n",
      "\t\tcrs:semi_major_axis = 6378137. ;\n",
      "\t\tcrs:inverse_flattening = 298.257222101004 ;\n",
      "\t\tcrs:spatial_ref = \"PROJCS[\\\"unnamed\\\",GEOGCS[\\\"NAD83\\\",DATUM[\\\"North_American_Datum_1983\\\",SPHEROID[\\\"GRS 1980\\\",6378137,298.2572221010042,AUTHORITY[\\\"EPSG\\\",\\\"7019\\\"]],TOWGS84[0,0,0,0,0,0,0],AUTHORITY[\\\"EPSG\\\",\\\"6269\\\"]],PRIMEM[\\\"Greenwich\\\",0],UNIT[\\\"degree\\\",0.0174532925199433],AUTHORITY[\\\"EPSG\\\",\\\"4269\\\"]],PROJECTION[\\\"Albers_Conic_Equal_Area\\\"],PARAMETER[\\\"standard_parallel_1\\\",55],PARAMETER[\\\"standard_parallel_2\\\",65],PARAMETER[\\\"latitude_of_center\\\",50],PARAMETER[\\\"longitude_of_center\\\",-154],PARAMETER[\\\"false_easting\\\",0],PARAMETER[\\\"false_northing\\\",0],UNIT[\\\"metre\\\",1,AUTHORITY[\\\"EPSG\\\",\\\"9001\\\"]]]\" ;\n",
      "\t\tcrs:GeoTransform = \"-28000 500 0 1230000 0 -500 \" ;\n",
      "\n",
      "// global attributes:\n",
      "\t\t:GDAL_AREA_OR_POINT = \"Area\" ;\n",
      "\t\t:Conventions = \"CF-1.5\" ;\n",
      "\t\t:GDAL = \"GDAL 2.3.3, released 2018/12/14\" ;\n",
      "\t\t:history = \"Mon Sep 02 19:45:39 2019: GDAL CreateCopy( SnowModel_DALL_2006_01_01.nc, ... )\" ;\n",
      "}\n"
     ]
    }
   ],
   "source": [
    "ncdump -h snow_depth_00500m_2006.nc\n",
    "# We'll show how to update the attribute: Band1:grid_mapping = \"albers_conical_equal_area\" ;"
   ]
  },
  {
   "cell_type": "markdown",
   "metadata": {},
   "source": [
    "### Step 6.  Add the Time Variable and Time Values\n",
    "* [ncap2](https://linux.die.net/man/1/ncap2) - netCDF Arithmetic Processor\n",
    "\n",
    "In this case, use ncap2 to add time as a variable and populate the array with the 365 time values.\n",
    "Recall that CF conventions for time:\n",
    "> CF-compliant: as a numeric value with a defined start time, such as\n",
    ">    \"days since 2006-01-01 00:00:00\"\n",
    "\n",
    "Explain array\n",
    "\n",
    "The ncdump \"-t\" option displays CF-compliant times in human readable form\n",
    "```cmd\n",
    "ncdump -t -v time snow_depth_00500m_2005.nc4\n",
    "```"
   ]
  },
  {
   "cell_type": "code",
   "execution_count": 13,
   "metadata": {},
   "outputs": [],
   "source": [
    "# !ncap2 -h -s 'time[$time]={0.5, 1.5, 2.5, 3.5, 4.5, ... , 364.5 };' snow_depth_00500m_2006.nc4 snow_depth_00500m_2006_time.nc4\n",
    "ncap2 -O -h -s 'time=array(0.5, 1, $time);' snow_depth_00500m_2006.nc snow_depth_00500m_2006_time.nc"
   ]
  },
  {
   "cell_type": "markdown",
   "metadata": {},
   "source": [
    "### Step 7.  Use `ncrename` to change the variable Band1 to something more descriptive"
   ]
  },
  {
   "cell_type": "code",
   "execution_count": 14,
   "metadata": {},
   "outputs": [],
   "source": [
    "ncrename -h -v Band1,SnowDepth_500m snow_depth_00500m_2006_time.nc"
   ]
  },
  {
   "cell_type": "markdown",
   "metadata": {},
   "source": [
    "### Step 8.  Use `ncatted` to update attributes to CF Compliance"
   ]
  },
  {
   "cell_type": "markdown",
   "metadata": {},
   "source": [
    "An important part of netCDF is Standardizing files to CF Compliance.  Editing variables and attributes is often necessary. \n",
    "\n",
    "Use the NCO `ncatted` operator to edit variables and attributes\n",
    "* [ncatted](https://linux.die.net/man/1/ncatted) – netCDF Attribute Editor\n",
    "> ncatted edits attributes in a netCDF file. If you are editing attributes then you are spending too much time in the world of metadata, and ncatted was written to get you back out as quickly and painlessly as possible. ncatted can append, create, delete, modify, and overwrite attributes.\n",
    "\n",
    "See the link associated with ncatted.  It's very powerful once understood."
   ]
  },
  {
   "cell_type": "code",
   "execution_count": 15,
   "metadata": {},
   "outputs": [],
   "source": [
    "## update attributes for the time variable\n",
    "ncatted -h -a units,time,c,c,\"days since 2006-01-01 00:00:00\" snow_depth_00500m_2006_time.nc\n",
    "ncatted -h -a calendar,time,c,c,\"standard\" snow_depth_00500m_2006_time.nc\n",
    "ncatted -h -a description,time,c,c,\"middle of each day\" snow_depth_00500m_2006_time.nc\n",
    "ncatted -h -a long_name,time,c,c,\"time\" snow_depth_00500m_2006_time.nc\n",
    "ncatted -h -a standard_name,time,c,c,\"time\" snow_depth_00500m_2006_time.nc"
   ]
  },
  {
   "cell_type": "code",
   "execution_count": 16,
   "metadata": {
    "scrolled": false
   },
   "outputs": [
    {
     "name": "stdout",
     "output_type": "stream",
     "text": [
      "netcdf snow_depth_00500m_2006_time {\n",
      "dimensions:\n",
      "\ttime = UNLIMITED ; // (365 currently)\n",
      "\tx = 160 ;\n",
      "\ty = 240 ;\n",
      "variables:\n",
      "\tdouble time(time) ;\n",
      "\t\ttime:units = \"days since 2006-01-01 00:00:00\" ;\n",
      "\t\ttime:calendar = \"standard\" ;\n",
      "\t\ttime:description = \"middle of each day\" ;\n",
      "\t\ttime:long_name = \"time\" ;\n",
      "\t\ttime:standard_name = \"time\" ;\n",
      "\tdouble x(x) ;\n",
      "\t\tx:standard_name = \"projection_x_coordinate\" ;\n",
      "\t\tx:long_name = \"x coordinate of projection\" ;\n",
      "\t\tx:units = \"m\" ;\n",
      "\tdouble y(y) ;\n",
      "\t\ty:standard_name = \"projection_y_coordinate\" ;\n",
      "\t\ty:long_name = \"y coordinate of projection\" ;\n",
      "\t\ty:units = \"m\" ;\n",
      "\tfloat lat(y, x) ;\n",
      "\t\tlat:standard_name = \"latitude\" ;\n",
      "\t\tlat:long_name = \"latitude\" ;\n",
      "\t\tlat:units = \"degrees_north\" ;\n",
      "\tfloat lon(y, x) ;\n",
      "\t\tlon:standard_name = \"longitude\" ;\n",
      "\t\tlon:long_name = \"longitude\" ;\n",
      "\t\tlon:units = \"degrees_east\" ;\n",
      "\tfloat SnowDepth_500m(time, y, x) ;\n",
      "\t\tSnowDepth_500m:long_name = \"GDAL Band Number 1\" ;\n",
      "\t\tSnowDepth_500m:_FillValue = -3.4e+38f ;\n",
      "\t\tSnowDepth_500m:grid_mapping = \"albers_conical_equal_area\" ;\n",
      "\t\tSnowDepth_500m:coordinates = \"lon lat\" ;\n",
      "\tchar crs ;\n",
      "\t\tcrs:grid_mapping_name = \"albers_conical_equal_area\" ;\n",
      "\t\tcrs:false_easting = 0. ;\n",
      "\t\tcrs:false_northing = 0. ;\n",
      "\t\tcrs:latitude_of_projection_origin = 50. ;\n",
      "\t\tcrs:longitude_of_central_meridian = -154. ;\n",
      "\t\tcrs:standard_parallel = 55., 65. ;\n",
      "\t\tcrs:long_name = \"CRS definition\" ;\n",
      "\t\tcrs:longitude_of_prime_meridian = 0. ;\n",
      "\t\tcrs:semi_major_axis = 6378137. ;\n",
      "\t\tcrs:inverse_flattening = 298.257222101004 ;\n",
      "\t\tcrs:spatial_ref = \"PROJCS[\\\"unnamed\\\",GEOGCS[\\\"NAD83\\\",DATUM[\\\"North_American_Datum_1983\\\",SPHEROID[\\\"GRS 1980\\\",6378137,298.2572221010042,AUTHORITY[\\\"EPSG\\\",\\\"7019\\\"]],TOWGS84[0,0,0,0,0,0,0],AUTHORITY[\\\"EPSG\\\",\\\"6269\\\"]],PRIMEM[\\\"Greenwich\\\",0],UNIT[\\\"degree\\\",0.0174532925199433],AUTHORITY[\\\"EPSG\\\",\\\"4269\\\"]],PROJECTION[\\\"Albers_Conic_Equal_Area\\\"],PARAMETER[\\\"standard_parallel_1\\\",55],PARAMETER[\\\"standard_parallel_2\\\",65],PARAMETER[\\\"latitude_of_center\\\",50],PARAMETER[\\\"longitude_of_center\\\",-154],PARAMETER[\\\"false_easting\\\",0],PARAMETER[\\\"false_northing\\\",0],UNIT[\\\"metre\\\",1,AUTHORITY[\\\"EPSG\\\",\\\"9001\\\"]]]\" ;\n",
      "\t\tcrs:GeoTransform = \"-28000 500 0 1230000 0 -500 \" ;\n",
      "\n",
      "// global attributes:\n",
      "\t\t:GDAL_AREA_OR_POINT = \"Area\" ;\n",
      "\t\t:Conventions = \"CF-1.5\" ;\n",
      "\t\t:GDAL = \"GDAL 2.3.3, released 2018/12/14\" ;\n",
      "\t\t:history = \"Mon Sep 02 19:45:39 2019: GDAL CreateCopy( SnowModel_DALL_2006_01_01.nc, ... )\" ;\n",
      "data:\n",
      "\n",
      " time = \"2006-01-01 12\", \"2006-01-02 12\", \"2006-01-03 12\", \"2006-01-04 12\", \n",
      "    \"2006-01-05 12\", \"2006-01-06 12\", \"2006-01-07 12\", \"2006-01-08 12\", \n",
      "    \"2006-01-09 12\", \"2006-01-10 12\", \"2006-01-11 12\", \"2006-01-12 12\", \n",
      "    \"2006-01-13 12\", \"2006-01-14 12\", \"2006-01-15 12\", \"2006-01-16 12\", \n",
      "    \"2006-01-17 12\", \"2006-01-18 12\", \"2006-01-19 12\", \"2006-01-20 12\", \n",
      "    \"2006-01-21 12\", \"2006-01-22 12\", \"2006-01-23 12\", \"2006-01-24 12\", \n",
      "    \"2006-01-25 12\", \"2006-01-26 12\", \"2006-01-27 12\", \"2006-01-28 12\", \n",
      "    \"2006-01-29 12\", \"2006-01-30 12\", \"2006-01-31 12\", \"2006-02-01 12\", \n",
      "    \"2006-02-02 12\", \"2006-02-03 12\", \"2006-02-04 12\", \"2006-02-05 12\", \n",
      "    \"2006-02-06 12\", \"2006-02-07 12\", \"2006-02-08 12\", \"2006-02-09 12\", \n",
      "    \"2006-02-10 12\", \"2006-02-11 12\", \"2006-02-12 12\", \"2006-02-13 12\", \n",
      "    \"2006-02-14 12\", \"2006-02-15 12\", \"2006-02-16 12\", \"2006-02-17 12\", \n",
      "    \"2006-02-18 12\", \"2006-02-19 12\", \"2006-02-20 12\", \"2006-02-21 12\", \n",
      "    \"2006-02-22 12\", \"2006-02-23 12\", \"2006-02-24 12\", \"2006-02-25 12\", \n",
      "    \"2006-02-26 12\", \"2006-02-27 12\", \"2006-02-28 12\", \"2006-03-01 12\", \n",
      "    \"2006-03-02 12\", \"2006-03-03 12\", \"2006-03-04 12\", \"2006-03-05 12\", \n",
      "    \"2006-03-06 12\", \"2006-03-07 12\", \"2006-03-08 12\", \"2006-03-09 12\", \n",
      "    \"2006-03-10 12\", \"2006-03-11 12\", \"2006-03-12 12\", \"2006-03-13 12\", \n",
      "    \"2006-03-14 12\", \"2006-03-15 12\", \"2006-03-16 12\", \"2006-03-17 12\", \n",
      "    \"2006-03-18 12\", \"2006-03-19 12\", \"2006-03-20 12\", \"2006-03-21 12\", \n",
      "    \"2006-03-22 12\", \"2006-03-23 12\", \"2006-03-24 12\", \"2006-03-25 12\", \n",
      "    \"2006-03-26 12\", \"2006-03-27 12\", \"2006-03-28 12\", \"2006-03-29 12\", \n",
      "    \"2006-03-30 12\", \"2006-03-31 12\", \"2006-04-01 12\", \"2006-04-02 12\", \n",
      "    \"2006-04-03 12\", \"2006-04-04 12\", \"2006-04-05 12\", \"2006-04-06 12\", \n",
      "    \"2006-04-07 12\", \"2006-04-08 12\", \"2006-04-09 12\", \"2006-04-10 12\", \n",
      "    \"2006-04-11 12\", \"2006-04-12 12\", \"2006-04-13 12\", \"2006-04-14 12\", \n",
      "    \"2006-04-15 12\", \"2006-04-16 12\", \"2006-04-17 12\", \"2006-04-18 12\", \n",
      "    \"2006-04-19 12\", \"2006-04-20 12\", \"2006-04-21 12\", \"2006-04-22 12\", \n",
      "    \"2006-04-23 12\", \"2006-04-24 12\", \"2006-04-25 12\", \"2006-04-26 12\", \n",
      "    \"2006-04-27 12\", \"2006-04-28 12\", \"2006-04-29 12\", \"2006-04-30 12\", \n",
      "    \"2006-05-01 12\", \"2006-05-02 12\", \"2006-05-03 12\", \"2006-05-04 12\", \n",
      "    \"2006-05-05 12\", \"2006-05-06 12\", \"2006-05-07 12\", \"2006-05-08 12\", \n",
      "    \"2006-05-09 12\", \"2006-05-10 12\", \"2006-05-11 12\", \"2006-05-12 12\", \n",
      "    \"2006-05-13 12\", \"2006-05-14 12\", \"2006-05-15 12\", \"2006-05-16 12\", \n",
      "    \"2006-05-17 12\", \"2006-05-18 12\", \"2006-05-19 12\", \"2006-05-20 12\", \n",
      "    \"2006-05-21 12\", \"2006-05-22 12\", \"2006-05-23 12\", \"2006-05-24 12\", \n",
      "    \"2006-05-25 12\", \"2006-05-26 12\", \"2006-05-27 12\", \"2006-05-28 12\", \n",
      "    \"2006-05-29 12\", \"2006-05-30 12\", \"2006-05-31 12\", \"2006-06-01 12\", \n",
      "    \"2006-06-02 12\", \"2006-06-03 12\", \"2006-06-04 12\", \"2006-06-05 12\", \n",
      "    \"2006-06-06 12\", \"2006-06-07 12\", \"2006-06-08 12\", \"2006-06-09 12\", \n",
      "    \"2006-06-10 12\", \"2006-06-11 12\", \"2006-06-12 12\", \"2006-06-13 12\", \n",
      "    \"2006-06-14 12\", \"2006-06-15 12\", \"2006-06-16 12\", \"2006-06-17 12\", \n",
      "    \"2006-06-18 12\", \"2006-06-19 12\", \"2006-06-20 12\", \"2006-06-21 12\", \n",
      "    \"2006-06-22 12\", \"2006-06-23 12\", \"2006-06-24 12\", \"2006-06-25 12\", \n",
      "    \"2006-06-26 12\", \"2006-06-27 12\", \"2006-06-28 12\", \"2006-06-29 12\", \n",
      "    \"2006-06-30 12\", \"2006-07-01 12\", \"2006-07-02 12\", \"2006-07-03 12\", \n",
      "    \"2006-07-04 12\", \"2006-07-05 12\", \"2006-07-06 12\", \"2006-07-07 12\", \n",
      "    \"2006-07-08 12\", \"2006-07-09 12\", \"2006-07-10 12\", \"2006-07-11 12\", \n",
      "    \"2006-07-12 12\", \"2006-07-13 12\", \"2006-07-14 12\", \"2006-07-15 12\", \n",
      "    \"2006-07-16 12\", \"2006-07-17 12\", \"2006-07-18 12\", \"2006-07-19 12\", \n",
      "    \"2006-07-20 12\", \"2006-07-21 12\", \"2006-07-22 12\", \"2006-07-23 12\", \n",
      "    \"2006-07-24 12\", \"2006-07-25 12\", \"2006-07-26 12\", \"2006-07-27 12\", \n",
      "    \"2006-07-28 12\", \"2006-07-29 12\", \"2006-07-30 12\", \"2006-07-31 12\", \n",
      "    \"2006-08-01 12\", \"2006-08-02 12\", \"2006-08-03 12\", \"2006-08-04 12\", \n",
      "    \"2006-08-05 12\", \"2006-08-06 12\", \"2006-08-07 12\", \"2006-08-08 12\", \n",
      "    \"2006-08-09 12\", \"2006-08-10 12\", \"2006-08-11 12\", \"2006-08-12 12\", \n",
      "    \"2006-08-13 12\", \"2006-08-14 12\", \"2006-08-15 12\", \"2006-08-16 12\", \n",
      "    \"2006-08-17 12\", \"2006-08-18 12\", \"2006-08-19 12\", \"2006-08-20 12\", \n",
      "    \"2006-08-21 12\", \"2006-08-22 12\", \"2006-08-23 12\", \"2006-08-24 12\", \n",
      "    \"2006-08-25 12\", \"2006-08-26 12\", \"2006-08-27 12\", \"2006-08-28 12\", \n",
      "    \"2006-08-29 12\", \"2006-08-30 12\", \"2006-08-31 12\", \"2006-09-01 12\", \n",
      "    \"2006-09-02 12\", \"2006-09-03 12\", \"2006-09-04 12\", \"2006-09-05 12\", \n",
      "    \"2006-09-06 12\", \"2006-09-07 12\", \"2006-09-08 12\", \"2006-09-09 12\", \n",
      "    \"2006-09-10 12\", \"2006-09-11 12\", \"2006-09-12 12\", \"2006-09-13 12\", \n",
      "    \"2006-09-14 12\", \"2006-09-15 12\", \"2006-09-16 12\", \"2006-09-17 12\", \n",
      "    \"2006-09-18 12\", \"2006-09-19 12\", \"2006-09-20 12\", \"2006-09-21 12\", \n",
      "    \"2006-09-22 12\", \"2006-09-23 12\", \"2006-09-24 12\", \"2006-09-25 12\", \n",
      "    \"2006-09-26 12\", \"2006-09-27 12\", \"2006-09-28 12\", \"2006-09-29 12\", \n",
      "    \"2006-09-30 12\", \"2006-10-01 12\", \"2006-10-02 12\", \"2006-10-03 12\", \n",
      "    \"2006-10-04 12\", \"2006-10-05 12\", \"2006-10-06 12\", \"2006-10-07 12\", \n",
      "    \"2006-10-08 12\", \"2006-10-09 12\", \"2006-10-10 12\", \"2006-10-11 12\", \n",
      "    \"2006-10-12 12\", \"2006-10-13 12\", \"2006-10-14 12\", \"2006-10-15 12\", \n",
      "    \"2006-10-16 12\", \"2006-10-17 12\", \"2006-10-18 12\", \"2006-10-19 12\", \n",
      "    \"2006-10-20 12\", \"2006-10-21 12\", \"2006-10-22 12\", \"2006-10-23 12\", \n",
      "    \"2006-10-24 12\", \"2006-10-25 12\", \"2006-10-26 12\", \"2006-10-27 12\", \n",
      "    \"2006-10-28 12\", \"2006-10-29 12\", \"2006-10-30 12\", \"2006-10-31 12\", \n",
      "    \"2006-11-01 12\", \"2006-11-02 12\", \"2006-11-03 12\", \"2006-11-04 12\", \n",
      "    \"2006-11-05 12\", \"2006-11-06 12\", \"2006-11-07 12\", \"2006-11-08 12\", \n",
      "    \"2006-11-09 12\", \"2006-11-10 12\", \"2006-11-11 12\", \"2006-11-12 12\", \n",
      "    \"2006-11-13 12\", \"2006-11-14 12\", \"2006-11-15 12\", \"2006-11-16 12\", \n"
     ]
    },
    {
     "name": "stdout",
     "output_type": "stream",
     "text": [
      "    \"2006-11-17 12\", \"2006-11-18 12\", \"2006-11-19 12\", \"2006-11-20 12\", \n",
      "    \"2006-11-21 12\", \"2006-11-22 12\", \"2006-11-23 12\", \"2006-11-24 12\", \n",
      "    \"2006-11-25 12\", \"2006-11-26 12\", \"2006-11-27 12\", \"2006-11-28 12\", \n",
      "    \"2006-11-29 12\", \"2006-11-30 12\", \"2006-12-01 12\", \"2006-12-02 12\", \n",
      "    \"2006-12-03 12\", \"2006-12-04 12\", \"2006-12-05 12\", \"2006-12-06 12\", \n",
      "    \"2006-12-07 12\", \"2006-12-08 12\", \"2006-12-09 12\", \"2006-12-10 12\", \n",
      "    \"2006-12-11 12\", \"2006-12-12 12\", \"2006-12-13 12\", \"2006-12-14 12\", \n",
      "    \"2006-12-15 12\", \"2006-12-16 12\", \"2006-12-17 12\", \"2006-12-18 12\", \n",
      "    \"2006-12-19 12\", \"2006-12-20 12\", \"2006-12-21 12\", \"2006-12-22 12\", \n",
      "    \"2006-12-23 12\", \"2006-12-24 12\", \"2006-12-25 12\", \"2006-12-26 12\", \n",
      "    \"2006-12-27 12\", \"2006-12-28 12\", \"2006-12-29 12\", \"2006-12-30 12\", \n",
      "    \"2006-12-31 12\" ;\n",
      "}\n"
     ]
    }
   ],
   "source": [
    "# The ncdump \"-t\" option displays CF-compliant times in human readable form\n",
    "ncdump -t -v time snow_depth_00500m_2006_time.nc"
   ]
  },
  {
   "cell_type": "markdown",
   "metadata": {},
   "source": [
    "#### A little more editing on variable attributes to get to CF Compliance\n",
    "---"
   ]
  },
  {
   "cell_type": "code",
   "execution_count": 17,
   "metadata": {},
   "outputs": [],
   "source": [
    "## update attributes for the SnowDepth_500m variable\n",
    "ncatted -h -a grid_mapping,SnowDepth_500m,o,c,\"crs\" snow_depth_00500m_2006_time.nc\n",
    "ncatted -h -a long_name,SnowDepth_500m,o,c,\"SnowModel snow depth: 500-m resolution\" snow_depth_00500m_2006_time.nc\n",
    "ncatted -h -a units,SnowDepth_500m,c,c,\"cm\" snow_depth_00500m_2006_time.nc\n",
    "\n",
    "## update attributes in the Global section\n",
    "ncatted -h -a Conventions,global,o,c,\"CF-1.6\" snow_depth_00500m_2006_time.nc\n",
    "ncatted -h -a institution,global,c,c,\"University of Washington\" snow_depth_00500m_2006_time.nc\n",
    "ncatted -h -a project,global,c,c,\"Arctic-Boreal Vulnerability Experiment (ABoVE)\" snow_depth_00500m_2006_time.nc\n",
    "ncatted -h -a references,global,c,c,\"Mahoney, P., Liston, G., Mangipane, B., Prugh, L.\" snow_depth_00500m_2006_time.nc"
   ]
  },
  {
   "cell_type": "markdown",
   "metadata": {},
   "source": [
    "## Congratulations!  You've created a CF Compliant netCDF File\n",
    "---"
   ]
  },
  {
   "cell_type": "code",
   "execution_count": 18,
   "metadata": {},
   "outputs": [
    {
     "name": "stdout",
     "output_type": "stream",
     "text": [
      "netcdf snow_depth_00500m_2006_time {\n",
      "dimensions:\n",
      "\ttime = UNLIMITED ; // (365 currently)\n",
      "\tx = 160 ;\n",
      "\ty = 240 ;\n",
      "variables:\n",
      "\tdouble time(time) ;\n",
      "\t\ttime:units = \"days since 2006-01-01 00:00:00\" ;\n",
      "\t\ttime:calendar = \"standard\" ;\n",
      "\t\ttime:description = \"middle of each day\" ;\n",
      "\t\ttime:long_name = \"time\" ;\n",
      "\t\ttime:standard_name = \"time\" ;\n",
      "\tdouble x(x) ;\n",
      "\t\tx:standard_name = \"projection_x_coordinate\" ;\n",
      "\t\tx:long_name = \"x coordinate of projection\" ;\n",
      "\t\tx:units = \"m\" ;\n",
      "\tdouble y(y) ;\n",
      "\t\ty:standard_name = \"projection_y_coordinate\" ;\n",
      "\t\ty:long_name = \"y coordinate of projection\" ;\n",
      "\t\ty:units = \"m\" ;\n",
      "\tfloat lat(y, x) ;\n",
      "\t\tlat:standard_name = \"latitude\" ;\n",
      "\t\tlat:long_name = \"latitude\" ;\n",
      "\t\tlat:units = \"degrees_north\" ;\n",
      "\tfloat lon(y, x) ;\n",
      "\t\tlon:standard_name = \"longitude\" ;\n",
      "\t\tlon:long_name = \"longitude\" ;\n",
      "\t\tlon:units = \"degrees_east\" ;\n",
      "\tfloat SnowDepth_500m(time, y, x) ;\n",
      "\t\tSnowDepth_500m:long_name = \"SnowModel snow depth: 500-m resolution\" ;\n",
      "\t\tSnowDepth_500m:_FillValue = -3.4e+38f ;\n",
      "\t\tSnowDepth_500m:grid_mapping = \"crs\" ;\n",
      "\t\tSnowDepth_500m:coordinates = \"lon lat\" ;\n",
      "\t\tSnowDepth_500m:units = \"cm\" ;\n",
      "\tchar crs ;\n",
      "\t\tcrs:grid_mapping_name = \"albers_conical_equal_area\" ;\n",
      "\t\tcrs:false_easting = 0. ;\n",
      "\t\tcrs:false_northing = 0. ;\n",
      "\t\tcrs:latitude_of_projection_origin = 50. ;\n",
      "\t\tcrs:longitude_of_central_meridian = -154. ;\n",
      "\t\tcrs:standard_parallel = 55., 65. ;\n",
      "\t\tcrs:long_name = \"CRS definition\" ;\n",
      "\t\tcrs:longitude_of_prime_meridian = 0. ;\n",
      "\t\tcrs:semi_major_axis = 6378137. ;\n",
      "\t\tcrs:inverse_flattening = 298.257222101004 ;\n",
      "\t\tcrs:spatial_ref = \"PROJCS[\\\"unnamed\\\",GEOGCS[\\\"NAD83\\\",DATUM[\\\"North_American_Datum_1983\\\",SPHEROID[\\\"GRS 1980\\\",6378137,298.2572221010042,AUTHORITY[\\\"EPSG\\\",\\\"7019\\\"]],TOWGS84[0,0,0,0,0,0,0],AUTHORITY[\\\"EPSG\\\",\\\"6269\\\"]],PRIMEM[\\\"Greenwich\\\",0],UNIT[\\\"degree\\\",0.0174532925199433],AUTHORITY[\\\"EPSG\\\",\\\"4269\\\"]],PROJECTION[\\\"Albers_Conic_Equal_Area\\\"],PARAMETER[\\\"standard_parallel_1\\\",55],PARAMETER[\\\"standard_parallel_2\\\",65],PARAMETER[\\\"latitude_of_center\\\",50],PARAMETER[\\\"longitude_of_center\\\",-154],PARAMETER[\\\"false_easting\\\",0],PARAMETER[\\\"false_northing\\\",0],UNIT[\\\"metre\\\",1,AUTHORITY[\\\"EPSG\\\",\\\"9001\\\"]]]\" ;\n",
      "\t\tcrs:GeoTransform = \"-28000 500 0 1230000 0 -500 \" ;\n",
      "\n",
      "// global attributes:\n",
      "\t\t:GDAL_AREA_OR_POINT = \"Area\" ;\n",
      "\t\t:Conventions = \"CF-1.6\" ;\n",
      "\t\t:GDAL = \"GDAL 2.3.3, released 2018/12/14\" ;\n",
      "\t\t:history = \"Mon Sep 02 19:45:39 2019: GDAL CreateCopy( SnowModel_DALL_2006_01_01.nc, ... )\" ;\n",
      "\t\t:institution = \"University of Washington\" ;\n",
      "\t\t:project = \"Arctic-Boreal Vulnerability Experiment (ABoVE)\" ;\n",
      "\t\t:references = \"Mahoney, P., Liston, G., Mangipane, B., Prugh, L.\" ;\n",
      "}\n"
     ]
    }
   ],
   "source": [
    "# Examine the header of the complete file\n",
    "ncdump -h snow_depth_00500m_2006_time.nc"
   ]
  },
  {
   "cell_type": "markdown",
   "metadata": {},
   "source": [
    "---\n",
    "## Put all the steps together into a simple script file\n",
    "---"
   ]
  },
  {
   "cell_type": "markdown",
   "metadata": {},
   "source": [
    "### There were a lot of steps in the demonstration, but it's not necessary to examine each output file as in the demonstration above.  After the steps are worked out, put it all together into a final script file that can be easily executed, edited, and repeated as needed."
   ]
  },
  {
   "cell_type": "markdown",
   "metadata": {},
   "source": [
    "################################################################################################\n",
    "\n",
    "This is a sample set of commands that can be easily scripted to transform a series of indiviual \n",
    "geoTIFF files into a multidimensional netCDF file.  \n",
    "\n",
    "################################################################################################\n",
    "\n",
    "~~~sh\n",
    "####\n",
    "# Sample command line fucntions to demonstrate converted a series of \"daily\" geoTIFF files into a multidimensional netCDF file\n",
    "# Assumes the script is started in the directory containing sample geoTIFF files from the \n",
    "####\n",
    "\n",
    "# Make sure the band1 subdirectory exists\n",
    "if [-d //band1]; then\n",
    "    echo //band1\n",
    "else\n",
    "    mkdir //band1\n",
    "fi\n",
    "\n",
    "# Step 1: Extract SnowDepth band from geoTIFF files\n",
    "for f in *.tif; do gdal_translate -b 1 $f band1/$f; done\n",
    "\n",
    "cd band1\n",
    "# Step 2: Convert geoTIFF to netCDF\n",
    "for f in *.tif; do gdal_translate -of netCDF -co WRITE_LONLAT=YES $f ${f%.*}.nc; done\n",
    "\n",
    "# Step 3: Rename albers_conical_equal_area variable to crs\n",
    "for f in *.nc; do ncrename -h -v albers_conical_equal_area,crs $f; done\n",
    "\n",
    "# Step 4:  Merge netCDF files into one multidimensional file\n",
    "ncecat -h -x -v crs -u time SnowModel_DALL_2006*.nc snow_depth_00500m_2006.nc\n",
    "\n",
    "# Step 5:  Copy the crs variable back into the merged file\n",
    "ncks -h -A -v crs SnowModel_DALL_2006_01_01.nc snow_depth_00500m_2006.nc\n",
    "\n",
    "# Step 6:  Add the time variable and values\n",
    "ncap2 -h -s 'time=array(0.5, 1, $time);' snow_depth_00500m_2006.nc snow_depth_00500m_2006_time.nc\n",
    "\n",
    "# Step 7: Rename the Band1 variable to SnowDepth_500m\n",
    "ncrename -h -v Band1,SnowDepth_500m snow_depth_00500m_2006_time.nc\n",
    "\n",
    "# Step 8:  Update attributes to CF Compliance\n",
    "## update attributes for the time variable\n",
    "ncatted -h -a units,time,c,c,\"days since 2006-01-01 00:00:00\" snow_depth_00500m_2006_time.nc\n",
    "ncatted -h -a calendar,time,c,c,\"standard\" snow_depth_00500m_2006_time.nc\n",
    "ncatted -h -a description,time,c,c,\"middle of each day\" snow_depth_00500m_2006_time.nc\n",
    "ncatted -h -a long_name,time,c,c,\"time\" snow_depth_00500m_2006_time.nc\n",
    "ncatted -h -a standard_name,time,c,c,\"time\" snow_depth_00500m_2006_time.nc\n",
    "\n",
    "## update attributes for the SnowDepth_500m variable\n",
    "ncatted -h -a grid_mapping,SnowDepth_500m,o,c,\"crs\" snow_depth_00500m_2006_time.nc\n",
    "ncatted -h -a long_name,SnowDepth_500m,o,c,\"SnowModel snow depth: 500-m resolution\" snow_depth_00500m_2006_time.nc\n",
    "ncatted -h -a units,SnowDepth_500m,c,c,\"cm\" snow_depth_00500m_2006_time.nc\n",
    "\n",
    "## update attributes in the Global section\n",
    "ncatted -h -a Conventions,global,o,c,\"CF-1.6\" snow_depth_00500m_2006_time.nc\n",
    "ncatted -h -a institution,global,c,c,\"University of Washington\" snow_depth_00500m_2006_time.nc\n",
    "ncatted -h -a project,global,c,c,\"Arctic-Boreal Vulnerability Experiment (ABoVE)\" snow_depth_00500m_2006_time.nc\n",
    "ncatted -h -a references,global,c,c,\"Mahoney, P., Liston, G., Mangipane, B., Prugh, L.\" snow_depth_00500m_2006_time.nc\n",
    "~~~"
   ]
  },
  {
   "cell_type": "code",
   "execution_count": null,
   "metadata": {},
   "outputs": [],
   "source": []
  }
 ],
 "metadata": {
  "kernelspec": {
   "display_name": "Bash",
   "language": "bash",
   "name": "bash"
  },
  "language_info": {
   "codemirror_mode": "shell",
   "file_extension": ".sh",
   "mimetype": "text/x-sh",
   "name": "bash"
  },
  "toc": {
   "base_numbering": 1,
   "nav_menu": {},
   "number_sections": true,
   "sideBar": true,
   "skip_h1_title": false,
   "title_cell": "Table of Contents",
   "title_sidebar": "Contents",
   "toc_cell": false,
   "toc_position": {},
   "toc_section_display": true,
   "toc_window_display": false
  }
 },
 "nbformat": 4,
 "nbformat_minor": 2
}
